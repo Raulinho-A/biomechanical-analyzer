{
 "cells": [
  {
   "cell_type": "code",
   "execution_count": null,
   "id": "6ea6012d",
   "metadata": {},
   "outputs": [],
   "source": []
  },
  {
   "cell_type": "code",
   "execution_count": 1,
   "id": "b0572ecb",
   "metadata": {},
   "outputs": [],
   "source": [
    "import json\n",
    "import matplotlib.pyplot as plt\n",
    "from pathlib import Path"
   ]
  },
  {
   "cell_type": "code",
   "execution_count": 4,
   "id": "0142349b",
   "metadata": {},
   "outputs": [
    {
     "name": "stdout",
     "output_type": "stream",
     "text": [
      "C:\\Program Files\\WindowsApps\\PythonSoftwareFoundation.Python.3.11_3.11.2544.0_x64__qbz5n2kfra8p0\\python311.zip\n",
      "C:\\Program Files\\WindowsApps\\PythonSoftwareFoundation.Python.3.11_3.11.2544.0_x64__qbz5n2kfra8p0\\DLLs\n",
      "C:\\Program Files\\WindowsApps\\PythonSoftwareFoundation.Python.3.11_3.11.2544.0_x64__qbz5n2kfra8p0\\Lib\n",
      "C:\\Program Files\\WindowsApps\\PythonSoftwareFoundation.Python.3.11_3.11.2544.0_x64__qbz5n2kfra8p0\n",
      "d:\\python\\biomechanical-analyzer\\venv\n",
      "\n",
      "d:\\python\\biomechanical-analyzer\\venv\\Lib\\site-packages\n",
      "d:\\python\\biomechanical-analyzer\\venv\\Lib\\site-packages\\win32\n",
      "d:\\python\\biomechanical-analyzer\\venv\\Lib\\site-packages\\win32\\lib\n",
      "d:\\python\\biomechanical-analyzer\\venv\\Lib\\site-packages\\Pythonwin\n",
      "\n",
      "\n",
      "D:\\python\\biomechanical-analyzer\\biomechanical-analyzer\\notebooks\n"
     ]
    }
   ],
   "source": [
    "import sys\n",
    "print(\"\\n\".join(sys.path))\n",
    "print(\"\\n\")\n",
    "print(Path().resolve())"
   ]
  },
  {
   "cell_type": "code",
   "execution_count": 2,
   "id": "4143726b",
   "metadata": {},
   "outputs": [
    {
     "ename": "ModuleNotFoundError",
     "evalue": "No module named 'analyzer'",
     "output_type": "error",
     "traceback": [
      "\u001b[31m---------------------------------------------------------------------------\u001b[39m",
      "\u001b[31mModuleNotFoundError\u001b[39m                       Traceback (most recent call last)",
      "\u001b[36mCell\u001b[39m\u001b[36m \u001b[39m\u001b[32mIn[2]\u001b[39m\u001b[32m, line 1\u001b[39m\n\u001b[32m----> \u001b[39m\u001b[32m1\u001b[39m \u001b[38;5;28;01mfrom\u001b[39;00m\u001b[38;5;250m \u001b[39m\u001b[34;01manalyzer\u001b[39;00m\u001b[34;01m.\u001b[39;00m\u001b[34;01mconfig\u001b[39;00m\u001b[38;5;250m \u001b[39m\u001b[38;5;28;01mimport\u001b[39;00m RAW_DATA_DIR\n\u001b[32m      3\u001b[39m json_path = Path(RAW_DATA_DIR)\n\u001b[32m      5\u001b[39m \u001b[38;5;28;01mwith\u001b[39;00m \u001b[38;5;28mopen\u001b[39m(json_path, \u001b[33m\"\u001b[39m\u001b[33mr\u001b[39m\u001b[33m\"\u001b[39m) \u001b[38;5;28;01mas\u001b[39;00m f:\n",
      "\u001b[31mModuleNotFoundError\u001b[39m: No module named 'analyzer'"
     ]
    }
   ],
   "source": [
    "from analyzer.config import RAW_DATA_DIR\n",
    "\n",
    "json_path = Path(RAW_DATA_DIR)\n",
    "\n",
    "with open(json_path, \"r\") as f:\n",
    "    all_landmarks = json.load(f)"
   ]
  }
 ],
 "metadata": {
  "kernelspec": {
   "display_name": "venv",
   "language": "python",
   "name": "python3"
  },
  "language_info": {
   "codemirror_mode": {
    "name": "ipython",
    "version": 3
   },
   "file_extension": ".py",
   "mimetype": "text/x-python",
   "name": "python",
   "nbconvert_exporter": "python",
   "pygments_lexer": "ipython3",
   "version": "3.11.9"
  }
 },
 "nbformat": 4,
 "nbformat_minor": 5
}
